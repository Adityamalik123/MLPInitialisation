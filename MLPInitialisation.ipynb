{
  "nbformat": 4,
  "nbformat_minor": 0,
  "metadata": {
    "colab": {
      "name": "MLPInitialisation.ipynb",
      "provenance": [],
      "authorship_tag": "ABX9TyOqOxPyREOi/R39YLGTcznp",
      "include_colab_link": true
    },
    "kernelspec": {
      "name": "python3",
      "display_name": "Python 3"
    }
  },
  "cells": [
    {
      "cell_type": "markdown",
      "metadata": {
        "id": "view-in-github",
        "colab_type": "text"
      },
      "source": [
        "<a href=\"https://colab.research.google.com/github/Adityamalik123/MLPInitialisation/blob/master/MLPInitialisation.ipynb\" target=\"_parent\"><img src=\"https://colab.research.google.com/assets/colab-badge.svg\" alt=\"Open In Colab\"/></a>"
      ]
    },
    {
      "cell_type": "code",
      "metadata": {
        "id": "8RUbki4-z4U0",
        "colab_type": "code",
        "outputId": "e2e65b04-0d3b-4ab8-84ca-7ad98261865f",
        "colab": {
          "base_uri": "https://localhost:8080/",
          "height": 102
        }
      },
      "source": [
        "%tensorflow_version 1.x\n",
        "from tensorflow.examples.tutorials.mnist import input_data\n",
        "import tensorflow as tf\n",
        "mnist = input_data.read_data_sets(\"MNIST_data/\", one_hot = True)"
      ],
      "execution_count": 0,
      "outputs": [
        {
          "output_type": "stream",
          "text": [
            "TensorFlow is already loaded. Please restart the runtime to change versions.\n",
            "Extracting MNIST_data/train-images-idx3-ubyte.gz\n",
            "Extracting MNIST_data/train-labels-idx1-ubyte.gz\n",
            "Extracting MNIST_data/t10k-images-idx3-ubyte.gz\n",
            "Extracting MNIST_data/t10k-labels-idx1-ubyte.gz\n"
          ],
          "name": "stdout"
        }
      ]
    },
    {
      "cell_type": "code",
      "metadata": {
        "id": "-ebiWtfiYUnD",
        "colab_type": "code",
        "colab": {}
      },
      "source": [
        "import matplotlib.pyplot as plt\n",
        "import numpy as np\n",
        "import time\n",
        "\n",
        "def plt_dynamic(x, y, y_1, ax, ticks, title, colors=['b']):\n",
        "  ax.plot(x, y, 'b', label='Train Loss')\n",
        "  ax.plot(x, y_1, 'r', label='Test Loss')\n",
        "  if len(x) == 1:\n",
        "    plt.legend()\n",
        "    plt.title(title)\n",
        "  plt.yticks(ticks)\n",
        "  fig.canvas.draw()\n",
        "  #This plot is between loss and epoch"
      ],
      "execution_count": 0,
      "outputs": []
    },
    {
      "cell_type": "code",
      "metadata": {
        "id": "A85HJiAiZhgc",
        "colab_type": "code",
        "colab": {}
      },
      "source": [
        "# N/w Parameters\n",
        "n_hidden_1 = 512\n",
        "n_hidden_2 = 128\n",
        "n_input = 784\n",
        "n_classes = 10"
      ],
      "execution_count": 0,
      "outputs": []
    },
    {
      "cell_type": "code",
      "metadata": {
        "id": "Yiz1vbskbhs7",
        "colab_type": "code",
        "colab": {}
      },
      "source": [
        "x = tf.placeholder(tf.float32, [None, 784])\n",
        "y_ = tf.placeholder(tf.float32, [None, 10])\n",
        "\n",
        "keep_prob = tf.placeholder(tf.float32) # -> single value not array\n",
        "\n",
        "keep_prob_input = tf.placeholder(tf.float32)"
      ],
      "execution_count": 0,
      "outputs": []
    },
    {
      "cell_type": "code",
      "metadata": {
        "id": "1gBL1whBb8Fd",
        "colab_type": "code",
        "colab": {}
      },
      "source": [
        "# As here i am using sigmoid activation unit, i'll be using xavier/glorot Normal initialisation -\n",
        "\n",
        "# h1 => sigma =  sqrt(2 / (fan_in + fan_out + 1) -> here +1, is just to ensure the \n",
        "\n",
        "# here its like 786 - 512 - 128 - 10\n",
        "# for h1, it becomes fan_in = 786, fanout = 512 which makes sigma as 0.039\n",
        "\n",
        "weights_sgd = {\n",
        "               'h1' : tf.Variable(tf.random_normal([n_input, n_hidden_1], stddev = 0.039, mean = 0)),\n",
        "               'h2' : tf.Variable(tf.random_normal([n_hidden_1, n_hidden_2], stddev = 0.055, mean = 0)),\n",
        "               'out' : tf.Variable(tf.random_normal([n_hidden_2, n_classes], stddev = 0.120, mean = 0))\n",
        "}\n",
        "\n",
        "# I'll use He Normal initialisation here\n",
        "# sigma = sqrt 2/ fan_in + 1\n",
        "\n",
        "weights_relu = {\n",
        "               'h1' : tf.Variable(tf.random_normal([n_input, n_hidden_1], stddev = 0.062, mean = 0)),\n",
        "               'h2' : tf.Variable(tf.random_normal([n_hidden_1, n_hidden_2], stddev = 0.125, mean = 0)),\n",
        "               'out' : tf.Variable(tf.random_normal([n_hidden_2, n_classes], stddev = 0.120, mean = 0))\n",
        "}\n",
        "\n",
        "\n",
        "biases = {\n",
        "    'b1': tf.Variable(tf.random_normal([n_hidden_1])),  # ->Default -> mean 0 and std 1 (Standard normal)\n",
        "    'b2': tf.Variable(tf.random_normal([n_hidden_2])),\n",
        "    'out': tf.Variable(tf.random_normal([n_classes]))\n",
        "}"
      ],
      "execution_count": 0,
      "outputs": []
    },
    {
      "cell_type": "code",
      "metadata": {
        "id": "JGiVT19xf7wR",
        "colab_type": "code",
        "colab": {}
      },
      "source": [
        "training_epochs = 5\n",
        "learning_rate = 0.001\n",
        "batch_size = 100\n",
        "display_step = 1"
      ],
      "execution_count": 0,
      "outputs": []
    },
    {
      "cell_type": "code",
      "metadata": {
        "id": "3ks5XSUSgLju",
        "colab_type": "code",
        "colab": {}
      },
      "source": [
        "#Model 1\n",
        "# I/p (784) -> Sigmoid(512) -> Sigmoid(128) -> Softmax(o/p(10))"
      ],
      "execution_count": 0,
      "outputs": []
    },
    {
      "cell_type": "code",
      "metadata": {
        "id": "PYglrwnqmYls",
        "colab_type": "code",
        "colab": {}
      },
      "source": [
        "#Creating model\n",
        "def multilayer_perceptron(x, weights, biases):\n",
        "  # print('x:', x.get_shape(), 'W[h1]', weights['h1'].get_shape(), 'b[h1]', biases['b1'].get_shape())\n",
        "\n",
        "  layer_1 = tf.add(tf.matmul(x, weights['h1']), biases['b1'])\n",
        "  layer_1 = tf.nn.sigmoid(layer_1)\n",
        "\n",
        "  # print('layer_1:', layer_1.get_shape(), 'W[h2]', weights['h2'].get_shape(), 'b[h2]', biases['b2'].get_shape())\n",
        "\n",
        "  layer_2 = tf.add(tf.matmul(layer_1, weights['h2']), biases['b2'])\n",
        "  layer_2 = tf.nn.sigmoid(layer_2)\n",
        "\n",
        "  # print('layer_2:', layer_2.get_shape(), 'W[out]', weights['out'].get_shape(), 'b[out]', biases['out'].get_shape())\n",
        "\n",
        "  out_layer = tf.matmul(layer_2, weights['out']) + biases['out']\n",
        "  out_layer = tf.nn.softmax(out_layer)\n",
        "\n",
        "  print('out_layer:', out_layer.get_shape())\n",
        "  return out_layer\n",
        "\n",
        "  "
      ],
      "execution_count": 0,
      "outputs": []
    },
    {
      "cell_type": "code",
      "metadata": {
        "id": "Z3sFfoNwxWBS",
        "colab_type": "code",
        "colab": {}
      },
      "source": [
        "#Model 1 + Adam Optimiser"
      ],
      "execution_count": 0,
      "outputs": []
    },
    {
      "cell_type": "code",
      "metadata": {
        "id": "QZ08HOVPxjwG",
        "colab_type": "code",
        "outputId": "38b67ae2-f477-44ca-f2dc-2bf5b87c47f1",
        "colab": {
          "base_uri": "https://localhost:8080/",
          "height": 482
        }
      },
      "source": [
        "# Since we are using sigmoid activations in hiden layers we will be using weights that are initalized as weights_sgd\n",
        "y_sgd = multilayer_perceptron(x, weights_sgd, biases)\n",
        "\n",
        "# https://www.tensorflow.org/api_docs/python/tf/nn/softmax_cross_entropy_with_logits\n",
        "cost_sgd = tf.reduce_mean(tf.nn.softmax_cross_entropy_with_logits(logits = y_sgd, labels = y_))\n",
        "\n",
        "# https://github.com/amitmac/Question-Answering/issues/2\n",
        "# there are many optimizers available: https://www.tensorflow.org/versions/r1.2/api_guides/python/train#Optimizers \n",
        "optimizer_adam = tf.train.AdamOptimizer(learning_rate=learning_rate).minimize(cost_sgd)\n",
        "optimizer_sgdc = tf.train.GradientDescentOptimizer(learning_rate=learning_rate).minimize(cost_sgd)\n",
        "\n",
        "with tf.Session() as sess:\n",
        "    tf.global_variables_initializer().run()\n",
        "    fig,ax = plt.subplots(1,1)\n",
        "    ax.set_xlabel('epoch') ; ax.set_ylabel('Soft Max Cross Entropy loss')\n",
        "    xs, ytrs, ytes = [], [], []\n",
        "    for epoch in range(training_epochs):\n",
        "        train_avg_cost = 0.\n",
        "        test_avg_cost = 0.\n",
        "        total_batch = int(mnist.train.num_examples/batch_size)\n",
        "\n",
        "        # Loop over all batches\n",
        "        for i in range(total_batch):\n",
        "            batch_xs, batch_ys = mnist.train.next_batch(batch_size)\n",
        "\n",
        "            # here c: corresponds to the parameter cost_sgd\n",
        "            # w : correspondse to the parameter weights_sgd\n",
        "            # c = sess.run() return the cost after every bath during train\n",
        "            # w = sess.run() return the weights that are modified after every batch through Back prop\n",
        "            # w is dict w = {'h1': updated h1 weight vector after the current batch,\n",
        "            #                'h2': updated h2 weight vector after the current batch, \n",
        "            #                'out': updated output weight vector after the current batch, \n",
        "            #                }\n",
        "            # you check these w matrix for every iteration, and check whats happening during back prop\n",
        "            #\n",
        "            # note: sess.run() returns parameter values based on the input parameters\n",
        "            # _, c, w = sess.run([optimizer_adam, cost_sgd,weights_sgd]) it returns three parameters\n",
        "            # _, c = sess.run([optimizer_adam, cost_sgd ]) it returns two parameters\n",
        "            # _ = sess.run([optimizer_adam]) it returns one paramter (for the input optimizer it return none)\n",
        "            # c = sess.run([cost_sgd]) it returns one paramter (for the input cost return error after the batch)\n",
        "\n",
        "            # feed_dict={x: batch_xs, y_: batch_ys} here x, y_ should be placeholders\n",
        "            # x, y_ are the input parameters on which the models gets trained\n",
        "\n",
        "            # here we use AdamOptimizer\n",
        "            _, c, w = sess.run([optimizer_adam, cost_sgd,weights_sgd], feed_dict={x: batch_xs, y_: batch_ys})\n",
        "            train_avg_cost += c / total_batch\n",
        "            c = sess.run(cost_sgd, feed_dict={x: mnist.test.images, y_: mnist.test.labels})\n",
        "            test_avg_cost += c / total_batch\n",
        "\n",
        "        xs.append(epoch)\n",
        "        ytrs.append(train_avg_cost)\n",
        "        ytes.append(test_avg_cost)\n",
        "        plt_dynamic(xs, ytrs, ytes, ax, np.arange(1.3, 1.8, step=0.04), \"input-sigmoid(512)-sigmoid(128)-sigmoid(output)-AdamOptimizer\")\n",
        "\n",
        "        if epoch%display_step == 0:\n",
        "            print(\"Epoch:\", '%04d' % (epoch+1), \"train cost={:.9f}\".format(train_avg_cost), \"test cost={:.9f}\".format(test_avg_cost))\n",
        "    plt_dynamic(xs, ytrs, ytes, ax, np.arange(1.3, 1.8, step=0.04), \"input-sigmoid(512)-sigmoid(128)-sigmoid(output)-AdamOptimizer\")\n",
        "\n",
        "    # we are calculating the final accuracy on the test data\n",
        "    feed_dict = {x: [mnist.test.images[1]]}\n",
        "    data = multilayer_perceptron(x, weights_sgd, biases)\n",
        "    classification = data.eval(feed_dict)\n",
        "    print(classification, \"vhj\")\n",
        "    print(mnist.test.labels[0])\n",
        "    correct_prediction = tf.argmax(classification,1)\n",
        "    a = sess.run(correct_prediction)\n",
        "    print(a)"
      ],
      "execution_count": 0,
      "outputs": [
        {
          "output_type": "stream",
          "text": [
            "out_layer: (?, 10)\n",
            "Epoch: 0001 train cost=1.777777722 test cost=1.769619226\n",
            "Epoch: 0002 train cost=1.545951902 test cost=1.542490989\n",
            "Epoch: 0003 train cost=1.521151633 test cost=1.521342389\n",
            "Epoch: 0004 train cost=1.509323035 test cost=1.511243891\n",
            "Epoch: 0005 train cost=1.501665726 test cost=1.504935821\n",
            "out_layer: (?, 10)\n",
            "[[6.5559589e-06 7.9351429e-07 9.9997962e-01 4.6465884e-06 1.9054161e-10\n",
            "  9.7550412e-09 8.0703530e-06 3.8449851e-08 2.1679948e-07 1.7768290e-10]] vhj\n",
            "[0. 0. 0. 0. 0. 0. 0. 1. 0. 0.]\n",
            "[2]\n"
          ],
          "name": "stdout"
        },
        {
          "output_type": "display_data",
          "data": {
            "image/png": "[encoded data removed]",
            "text/plain": [
              "<Figure size 432x288 with 1 Axes>"
            ]
          },
          "metadata": {
            "tags": []
          }
        }
      ]
    },
    {
      "cell_type": "code",
      "metadata": {
        "id": "gL-vsg5YM7Vp",
        "colab_type": "code",
        "outputId": "6eb665a9-05f2-4329-9fcf-a3b3964782d4",
        "colab": {
          "base_uri": "https://localhost:8080/",
          "height": 51
        }
      },
      "source": [
        "# y_sgd = multilayer_perceptron(tf.transpose(tf.expand_dims(mnist.test.images[0], 1)), weights_sgd, biases)"
      ],
      "execution_count": 0,
      "outputs": [
        {
          "output_type": "stream",
          "text": [
            "out_layer: (1, 10)\n"
          ],
          "name": "stdout"
        },
        {
          "output_type": "execute_result",
          "data": {
            "text/plain": [
              "<tf.Tensor 'Softmax_1:0' shape=(1, 10) dtype=float32>"
            ]
          },
          "metadata": {
            "tags": []
          },
          "execution_count": 13
        }
      ]
    },
    {
      "cell_type": "code",
      "metadata": {
        "id": "yvDCs01qQcMH",
        "colab_type": "code",
        "colab": {}
      },
      "source": [
        "correct_prediction = tf.equal(tf.argmax(y_sgd,1), tf.argmax(mnist.test.labels[0],1))"
      ],
      "execution_count": 0,
      "outputs": []
    },
    {
      "cell_type": "code",
      "metadata": {
        "id": "UqmKFIbLQmih",
        "colab_type": "code",
        "outputId": "7eaf4288-07b9-493f-c0be-2b6331e53bb6",
        "colab": {
          "base_uri": "https://localhost:8080/",
          "height": 34
        }
      },
      "source": [
        "tf.print(correct_prediction)"
      ],
      "execution_count": 0,
      "outputs": [
        {
          "output_type": "execute_result",
          "data": {
            "text/plain": [
              "<tf.Operation 'PrintV2' type=PrintV2>"
            ]
          },
          "metadata": {
            "tags": []
          },
          "execution_count": 12
        }
      ]
    },
    {
      "cell_type": "code",
      "metadata": {
        "id": "fqYBbctD-Qup",
        "colab_type": "code",
        "outputId": "53c41124-4745-494a-8802-e2ce88d1a8ca",
        "colab": {
          "base_uri": "https://localhost:8080/",
          "height": 285
        }
      },
      "source": [
        "# Plot weight distriubtion at the end of training.\n",
        "\n",
        "import seaborn as sns\n",
        "h1_w = w['h1'].flatten().reshape(-1,1)\n",
        "h2_w = w['h2'].flatten().reshape(-1,1)\n",
        "out_w = w['out'].flatten().reshape(-1,1)\n",
        "\n",
        "\n",
        "fig = plt.figure()\n",
        "plt.subplot(1, 3, 1)\n",
        "plt.title(\"Weight matrix\")\n",
        "ax = sns.violinplot(y=h1_w,color='b')\n",
        "plt.xlabel('Hidden Layer 1')\n",
        "\n",
        "plt.subplot(1, 3, 2)\n",
        "plt.title(\"Weight matrix \")\n",
        "ax = sns.violinplot(y=h2_w, color='r')\n",
        "plt.xlabel('Hidden Layer 2 ')\n",
        "\n",
        "plt.subplot(1, 3, 3)\n",
        "plt.title(\"Weight matrix \")\n",
        "ax = sns.violinplot(y=out_w,color='y')\n",
        "plt.xlabel('Output Layer ')\n",
        "plt.show()\n",
        "\n",
        "# similarly we can plot the violin plots for gradients."
      ],
      "execution_count": 0,
      "outputs": [
        {
          "output_type": "display_data",
          "data": {
            "image/png": "[encoded data removed]",
            "text/plain": [
              "<Figure size 432x288 with 3 Axes>"
            ]
          },
          "metadata": {
            "tags": []
          }
        }
      ]
    },
    {
      "cell_type": "code",
      "metadata": {
        "id": "InWWLLPnG_Ef",
        "colab_type": "code",
        "outputId": "09cdfca5-aa59-422f-8537-87d5308392a3",
        "colab": {
          "base_uri": "https://localhost:8080/",
          "height": 641
        }
      },
      "source": [
        "# Using SGD - \n",
        "with tf.Session() as sess:\n",
        "    tf.global_variables_initializer().run()\n",
        "    fig,ax = plt.subplots(1,1)\n",
        "    ax.set_xlabel('epoch') ; ax.set_ylabel('Soft Max Cross Entropy loss')\n",
        "    xs, ytrs, ytes = [], [], []\n",
        "    for epoch in range(training_epochs):\n",
        "        train_avg_cost = 0.\n",
        "        test_avg_cost = 0.\n",
        "        total_batch = int(mnist.train.num_examples/batch_size)\n",
        "\n",
        "        # Loop over all batches\n",
        "        for i in range(total_batch):\n",
        "            batch_xs, batch_ys = mnist.train.next_batch(batch_size)\n",
        "\n",
        "            # here we use GradientDescentOptimizer\n",
        "            _, c, w = sess.run([optimizer_sgdc, cost_sgd, weights_sgd], feed_dict={x: batch_xs, y_: batch_ys})\n",
        "            train_avg_cost += c / total_batch\n",
        "            c = sess.run(cost_sgd, feed_dict={x: mnist.test.images, y_: mnist.test.labels})\n",
        "            test_avg_cost += c / total_batch\n",
        "\n",
        "        xs.append(epoch)\n",
        "        ytrs.append(train_avg_cost)\n",
        "        ytes.append(test_avg_cost)\n",
        "        plt_dynamic(xs, ytrs, ytes, ax, np.arange(2, 2.6, step=0.05), \"input-sigmoid(512)-sigmoid(128)-sigmoid(output)-GradientDescentOptimizer\")\n",
        "\n",
        "        if epoch%display_step == 0:\n",
        "            print(\"Epoch:\", '%04d' % (epoch+1), \"train cost={:.9f}\".format(train_avg_cost), \"test cost={:.9f}\".format(test_avg_cost))\n",
        "    plt_dynamic(xs, ytrs, ytes, ax, np.arange(2, 2.6, step=0.05), \"input-sigmoid(512)-sigmoid(128)-sigmoid(output)-GradientDescentOptimizer\")\n",
        "\n",
        "    # we are calculating the final accuracy on the test data\n",
        "    correct_prediction = tf.equal(tf.argmax(y_sgd,1), tf.argmax(y_,1))\n",
        "    accuracy = tf.reduce_mean(tf.cast(correct_prediction, tf.float32))\n",
        "    print(\"Accuracy:\", accuracy.eval({x: mnist.test.images, y_: mnist.test.labels}))"
      ],
      "execution_count": 0,
      "outputs": [
        {
          "output_type": "error",
          "ename": "KeyboardInterrupt",
          "evalue": "ignored",
          "traceback": [
            "\u001b[0;31m---------------------------------------------------------------------------\u001b[0m",
            "\u001b[0;31mKeyboardInterrupt\u001b[0m                         Traceback (most recent call last)",
            "\u001b[0;32m<ipython-input-53-c3fc79e05188>\u001b[0m in \u001b[0;36m<module>\u001b[0;34m()\u001b[0m\n\u001b[1;32m     16\u001b[0m             \u001b[0m_\u001b[0m\u001b[0;34m,\u001b[0m \u001b[0mc\u001b[0m\u001b[0;34m,\u001b[0m \u001b[0mw\u001b[0m \u001b[0;34m=\u001b[0m \u001b[0msess\u001b[0m\u001b[0;34m.\u001b[0m\u001b[0mrun\u001b[0m\u001b[0;34m(\u001b[0m\u001b[0;34m[\u001b[0m\u001b[0moptimizer_sgdc\u001b[0m\u001b[0;34m,\u001b[0m \u001b[0mcost_sgd\u001b[0m\u001b[0;34m,\u001b[0m \u001b[0mweights_sgd\u001b[0m\u001b[0;34m]\u001b[0m\u001b[0;34m,\u001b[0m \u001b[0mfeed_dict\u001b[0m\u001b[0;34m=\u001b[0m\u001b[0;34m{\u001b[0m\u001b[0mx\u001b[0m\u001b[0;34m:\u001b[0m \u001b[0mbatch_xs\u001b[0m\u001b[0;34m,\u001b[0m \u001b[0my_\u001b[0m\u001b[0;34m:\u001b[0m \u001b[0mbatch_ys\u001b[0m\u001b[0;34m}\u001b[0m\u001b[0;34m)\u001b[0m\u001b[0;34m\u001b[0m\u001b[0;34m\u001b[0m\u001b[0m\n\u001b[1;32m     17\u001b[0m             \u001b[0mtrain_avg_cost\u001b[0m \u001b[0;34m+=\u001b[0m \u001b[0mc\u001b[0m \u001b[0;34m/\u001b[0m \u001b[0mtotal_batch\u001b[0m\u001b[0;34m\u001b[0m\u001b[0;34m\u001b[0m\u001b[0m\n\u001b[0;32m---> 18\u001b[0;31m             \u001b[0mc\u001b[0m \u001b[0;34m=\u001b[0m \u001b[0msess\u001b[0m\u001b[0;34m.\u001b[0m\u001b[0mrun\u001b[0m\u001b[0;34m(\u001b[0m\u001b[0mcost_sgd\u001b[0m\u001b[0;34m,\u001b[0m \u001b[0mfeed_dict\u001b[0m\u001b[0;34m=\u001b[0m\u001b[0;34m{\u001b[0m\u001b[0mx\u001b[0m\u001b[0;34m:\u001b[0m \u001b[0mmnist\u001b[0m\u001b[0;34m.\u001b[0m\u001b[0mtest\u001b[0m\u001b[0;34m.\u001b[0m\u001b[0mimages\u001b[0m\u001b[0;34m,\u001b[0m \u001b[0my_\u001b[0m\u001b[0;34m:\u001b[0m \u001b[0mmnist\u001b[0m\u001b[0;34m.\u001b[0m\u001b[0mtest\u001b[0m\u001b[0;34m.\u001b[0m\u001b[0mlabels\u001b[0m\u001b[0;34m}\u001b[0m\u001b[0;34m)\u001b[0m\u001b[0;34m\u001b[0m\u001b[0;34m\u001b[0m\u001b[0m\n\u001b[0m\u001b[1;32m     19\u001b[0m             \u001b[0mtest_avg_cost\u001b[0m \u001b[0;34m+=\u001b[0m \u001b[0mc\u001b[0m \u001b[0;34m/\u001b[0m \u001b[0mtotal_batch\u001b[0m\u001b[0;34m\u001b[0m\u001b[0;34m\u001b[0m\u001b[0m\n\u001b[1;32m     20\u001b[0m \u001b[0;34m\u001b[0m\u001b[0m\n",
            "\u001b[0;32m/tensorflow-1.15.2/python3.6/tensorflow_core/python/client/session.py\u001b[0m in \u001b[0;36mrun\u001b[0;34m(self, fetches, feed_dict, options, run_metadata)\u001b[0m\n\u001b[1;32m    954\u001b[0m     \u001b[0;32mtry\u001b[0m\u001b[0;34m:\u001b[0m\u001b[0;34m\u001b[0m\u001b[0;34m\u001b[0m\u001b[0m\n\u001b[1;32m    955\u001b[0m       result = self._run(None, fetches, feed_dict, options_ptr,\n\u001b[0;32m--> 956\u001b[0;31m                          run_metadata_ptr)\n\u001b[0m\u001b[1;32m    957\u001b[0m       \u001b[0;32mif\u001b[0m \u001b[0mrun_metadata\u001b[0m\u001b[0;34m:\u001b[0m\u001b[0;34m\u001b[0m\u001b[0;34m\u001b[0m\u001b[0m\n\u001b[1;32m    958\u001b[0m         \u001b[0mproto_data\u001b[0m \u001b[0;34m=\u001b[0m \u001b[0mtf_session\u001b[0m\u001b[0;34m.\u001b[0m\u001b[0mTF_GetBuffer\u001b[0m\u001b[0;34m(\u001b[0m\u001b[0mrun_metadata_ptr\u001b[0m\u001b[0;34m)\u001b[0m\u001b[0;34m\u001b[0m\u001b[0;34m\u001b[0m\u001b[0m\n",
            "\u001b[0;32m/tensorflow-1.15.2/python3.6/tensorflow_core/python/client/session.py\u001b[0m in \u001b[0;36m_run\u001b[0;34m(self, handle, fetches, feed_dict, options, run_metadata)\u001b[0m\n\u001b[1;32m   1178\u001b[0m     \u001b[0;32mif\u001b[0m \u001b[0mfinal_fetches\u001b[0m \u001b[0;32mor\u001b[0m \u001b[0mfinal_targets\u001b[0m \u001b[0;32mor\u001b[0m \u001b[0;34m(\u001b[0m\u001b[0mhandle\u001b[0m \u001b[0;32mand\u001b[0m \u001b[0mfeed_dict_tensor\u001b[0m\u001b[0;34m)\u001b[0m\u001b[0;34m:\u001b[0m\u001b[0;34m\u001b[0m\u001b[0;34m\u001b[0m\u001b[0m\n\u001b[1;32m   1179\u001b[0m       results = self._do_run(handle, final_targets, final_fetches,\n\u001b[0;32m-> 1180\u001b[0;31m                              feed_dict_tensor, options, run_metadata)\n\u001b[0m\u001b[1;32m   1181\u001b[0m     \u001b[0;32melse\u001b[0m\u001b[0;34m:\u001b[0m\u001b[0;34m\u001b[0m\u001b[0;34m\u001b[0m\u001b[0m\n\u001b[1;32m   1182\u001b[0m       \u001b[0mresults\u001b[0m \u001b[0;34m=\u001b[0m \u001b[0;34m[\u001b[0m\u001b[0;34m]\u001b[0m\u001b[0;34m\u001b[0m\u001b[0;34m\u001b[0m\u001b[0m\n",
            "\u001b[0;32m/tensorflow-1.15.2/python3.6/tensorflow_core/python/client/session.py\u001b[0m in \u001b[0;36m_do_run\u001b[0;34m(self, handle, target_list, fetch_list, feed_dict, options, run_metadata)\u001b[0m\n\u001b[1;32m   1357\u001b[0m     \u001b[0;32mif\u001b[0m \u001b[0mhandle\u001b[0m \u001b[0;32mis\u001b[0m \u001b[0;32mNone\u001b[0m\u001b[0;34m:\u001b[0m\u001b[0;34m\u001b[0m\u001b[0;34m\u001b[0m\u001b[0m\n\u001b[1;32m   1358\u001b[0m       return self._do_call(_run_fn, feeds, fetches, targets, options,\n\u001b[0;32m-> 1359\u001b[0;31m                            run_metadata)\n\u001b[0m\u001b[1;32m   1360\u001b[0m     \u001b[0;32melse\u001b[0m\u001b[0;34m:\u001b[0m\u001b[0;34m\u001b[0m\u001b[0;34m\u001b[0m\u001b[0m\n\u001b[1;32m   1361\u001b[0m       \u001b[0;32mreturn\u001b[0m \u001b[0mself\u001b[0m\u001b[0;34m.\u001b[0m\u001b[0m_do_call\u001b[0m\u001b[0;34m(\u001b[0m\u001b[0m_prun_fn\u001b[0m\u001b[0;34m,\u001b[0m \u001b[0mhandle\u001b[0m\u001b[0;34m,\u001b[0m \u001b[0mfeeds\u001b[0m\u001b[0;34m,\u001b[0m \u001b[0mfetches\u001b[0m\u001b[0;34m)\u001b[0m\u001b[0;34m\u001b[0m\u001b[0;34m\u001b[0m\u001b[0m\n",
            "\u001b[0;32m/tensorflow-1.15.2/python3.6/tensorflow_core/python/client/session.py\u001b[0m in \u001b[0;36m_do_call\u001b[0;34m(self, fn, *args)\u001b[0m\n\u001b[1;32m   1363\u001b[0m   \u001b[0;32mdef\u001b[0m \u001b[0m_do_call\u001b[0m\u001b[0;34m(\u001b[0m\u001b[0mself\u001b[0m\u001b[0;34m,\u001b[0m \u001b[0mfn\u001b[0m\u001b[0;34m,\u001b[0m \u001b[0;34m*\u001b[0m\u001b[0margs\u001b[0m\u001b[0;34m)\u001b[0m\u001b[0;34m:\u001b[0m\u001b[0;34m\u001b[0m\u001b[0;34m\u001b[0m\u001b[0m\n\u001b[1;32m   1364\u001b[0m     \u001b[0;32mtry\u001b[0m\u001b[0;34m:\u001b[0m\u001b[0;34m\u001b[0m\u001b[0;34m\u001b[0m\u001b[0m\n\u001b[0;32m-> 1365\u001b[0;31m       \u001b[0;32mreturn\u001b[0m \u001b[0mfn\u001b[0m\u001b[0;34m(\u001b[0m\u001b[0;34m*\u001b[0m\u001b[0margs\u001b[0m\u001b[0;34m)\u001b[0m\u001b[0;34m\u001b[0m\u001b[0;34m\u001b[0m\u001b[0m\n\u001b[0m\u001b[1;32m   1366\u001b[0m     \u001b[0;32mexcept\u001b[0m \u001b[0merrors\u001b[0m\u001b[0;34m.\u001b[0m\u001b[0mOpError\u001b[0m \u001b[0;32mas\u001b[0m \u001b[0me\u001b[0m\u001b[0;34m:\u001b[0m\u001b[0;34m\u001b[0m\u001b[0;34m\u001b[0m\u001b[0m\n\u001b[1;32m   1367\u001b[0m       \u001b[0mmessage\u001b[0m \u001b[0;34m=\u001b[0m \u001b[0mcompat\u001b[0m\u001b[0;34m.\u001b[0m\u001b[0mas_text\u001b[0m\u001b[0;34m(\u001b[0m\u001b[0me\u001b[0m\u001b[0;34m.\u001b[0m\u001b[0mmessage\u001b[0m\u001b[0;34m)\u001b[0m\u001b[0;34m\u001b[0m\u001b[0;34m\u001b[0m\u001b[0m\n",
            "\u001b[0;32m/tensorflow-1.15.2/python3.6/tensorflow_core/python/client/session.py\u001b[0m in \u001b[0;36m_run_fn\u001b[0;34m(feed_dict, fetch_list, target_list, options, run_metadata)\u001b[0m\n\u001b[1;32m   1348\u001b[0m       \u001b[0mself\u001b[0m\u001b[0;34m.\u001b[0m\u001b[0m_extend_graph\u001b[0m\u001b[0;34m(\u001b[0m\u001b[0;34m)\u001b[0m\u001b[0;34m\u001b[0m\u001b[0;34m\u001b[0m\u001b[0m\n\u001b[1;32m   1349\u001b[0m       return self._call_tf_sessionrun(options, feed_dict, fetch_list,\n\u001b[0;32m-> 1350\u001b[0;31m                                       target_list, run_metadata)\n\u001b[0m\u001b[1;32m   1351\u001b[0m \u001b[0;34m\u001b[0m\u001b[0m\n\u001b[1;32m   1352\u001b[0m     \u001b[0;32mdef\u001b[0m \u001b[0m_prun_fn\u001b[0m\u001b[0;34m(\u001b[0m\u001b[0mhandle\u001b[0m\u001b[0;34m,\u001b[0m \u001b[0mfeed_dict\u001b[0m\u001b[0;34m,\u001b[0m \u001b[0mfetch_list\u001b[0m\u001b[0;34m)\u001b[0m\u001b[0;34m:\u001b[0m\u001b[0;34m\u001b[0m\u001b[0;34m\u001b[0m\u001b[0m\n",
            "\u001b[0;32m/tensorflow-1.15.2/python3.6/tensorflow_core/python/client/session.py\u001b[0m in \u001b[0;36m_call_tf_sessionrun\u001b[0;34m(self, options, feed_dict, fetch_list, target_list, run_metadata)\u001b[0m\n\u001b[1;32m   1441\u001b[0m     return tf_session.TF_SessionRun_wrapper(self._session, options, feed_dict,\n\u001b[1;32m   1442\u001b[0m                                             \u001b[0mfetch_list\u001b[0m\u001b[0;34m,\u001b[0m \u001b[0mtarget_list\u001b[0m\u001b[0;34m,\u001b[0m\u001b[0;34m\u001b[0m\u001b[0;34m\u001b[0m\u001b[0m\n\u001b[0;32m-> 1443\u001b[0;31m                                             run_metadata)\n\u001b[0m\u001b[1;32m   1444\u001b[0m \u001b[0;34m\u001b[0m\u001b[0m\n\u001b[1;32m   1445\u001b[0m   \u001b[0;32mdef\u001b[0m \u001b[0m_call_tf_sessionprun\u001b[0m\u001b[0;34m(\u001b[0m\u001b[0mself\u001b[0m\u001b[0;34m,\u001b[0m \u001b[0mhandle\u001b[0m\u001b[0;34m,\u001b[0m \u001b[0mfeed_dict\u001b[0m\u001b[0;34m,\u001b[0m \u001b[0mfetch_list\u001b[0m\u001b[0;34m)\u001b[0m\u001b[0;34m:\u001b[0m\u001b[0;34m\u001b[0m\u001b[0;34m\u001b[0m\u001b[0m\n",
            "\u001b[0;31mKeyboardInterrupt\u001b[0m: "
          ]
        },
        {
          "output_type": "display_data",
          "data": {
            "image/png": "[encoded data removed]",
            "text/plain": [
              "<Figure size 432x288 with 1 Axes>"
            ]
          },
          "metadata": {
            "tags": []
          }
        }
      ]
    },
    {
      "cell_type": "code",
      "metadata": {
        "id": "S9rodzepHML1",
        "colab_type": "code",
        "colab": {}
      },
      "source": [
        "# Model 2: input (784) - ReLu(512) - ReLu(128) - sigmoid(output 10)\n",
        "# Now using Relu instead of sigmoid - however my output is still gonna be sigmoid since its a softmax classifier\n",
        "# The only change will be in multilayer_perceptron function\n",
        "#Creating model\n",
        "def multilayer_perceptron_relu(x, weights, biases):\n",
        "  print('x:', x.get_shape(), 'W[h1]', weights['h1'].get_shape(), 'b[h1]', biases['b1'].get_shape())\n",
        "\n",
        "  layer_1 = tf.add(tf.matmul(x, weights['h1']), biases['b1'])\n",
        "  layer_1 = tf.nn.relu(layer_1)\n",
        "\n",
        "  print('layer_1:', layer_1.get_shape(), 'W[h2]', weights['h2'].get_shape(), 'b[h2]', biases['b2'].get_shape())\n",
        "\n",
        "  layer_2 = tf.add(tf.matmul(layer_1, weights['h2']), biases['b2'])\n",
        "  layer_2 = tf.nn.relu(layer_2)\n",
        "\n",
        "  print('layer_2:', layer_2.get_shape(), 'W[out]', weights['out'].get_shape(), 'b[out]', biases['out'].get_shape())\n",
        "\n",
        "  out_layer = tf.matmul(layer_2, weights['out']) + biases['out']\n",
        "  out_layer = tf.nn.sigmoid(out_layer)\n",
        "\n",
        "  print('out_layer:', out_layer.get_shape())\n",
        "  return out_layer\n",
        "\n",
        "  "
      ],
      "execution_count": 0,
      "outputs": []
    },
    {
      "cell_type": "code",
      "metadata": {
        "id": "6f-xVCqOH7Ne",
        "colab_type": "code",
        "colab": {}
      },
      "source": [
        ""
      ],
      "execution_count": 0,
      "outputs": []
    }
  ]
}